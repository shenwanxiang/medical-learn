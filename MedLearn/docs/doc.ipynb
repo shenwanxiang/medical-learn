{
 "cells": [
  {
   "cell_type": "markdown",
   "metadata": {},
   "source": [
    "# 我的文档\n",
    "## 一个描述\n",
    "    数据的相关性统计方法，要求输入一个dfx(dataframe),dfy(dataframe),\n",
    "    求dfx的每列和dfy的每列的相关系数及p值，需要指定相关系数的方法meathod：'pearson'\n",
    "    、'kendall'、'spearman'，返回一个相关系数和p-value的dataframe在‘result‘关键字中\n",
    "    \n",
    "    \n",
    "    方法\n",
    "    -------\n",
    "        get_info : \n",
    "            获取该模型的信息， 返回一个字典，包含‘id’和‘name’, 'description','limited'关键字\n",
    "            含义分别为：模型的id, 模型的名称，模型的描述，模型的适用范围\n",
    "        \n",
    "        run:  \n",
    "            参数\n",
    "            ----------\n",
    "            df: pandas DataFrame\n",
    "                如果方法为‘pearson’，需要每列的数据都是数字型数据，不能是字符串或者object\n",
    "            \n",
    "            dfy: pandas DataFrame\n",
    "                ‘pearson’，需要每列的数据都是数字型数据，不能是字符串或者object\n",
    "                \n",
    "            method: str\n",
    "                需要计算相关系数的方式，可选'pearson'(默认),'kendall'、'spearman'\n",
    "                \n",
    "            crosstab: bool, default:False\n",
    "                是否需要转换返回的dataframe的数据布局格式，如果为True则转为x,y的矩阵对应格式\n",
    "            \n",
    "    返回结果\n",
    "    ----------        \n",
    "        返回一个字典，带有‘result’关键字，其值为相关系数和p-value组成的dataframe\n",
    "        \n",
    "## 一个表格\n",
    "### html 格式\n",
    "<table border=\"1\" class=\"dataframe\">  <thead>    <tr style=\"text-align: right;\">      <th></th>      <th>med</th>      <th>lc</th>      <th>idp</th>      <th>lpi</th>      <th>fmde</th>      <th>physlim</th>      <th>ndisease</th>      <th>health</th>      <th>linc</th>      <th>lfam</th>      <th>educdec</th>      <th>age</th>      <th>sex</th>      <th>child</th>      <th>black</th>    </tr>  </thead>  <tbody>    <tr>      <th>1</th>      <td>62.07547</td>      <td>0.0</td>      <td>yes</td>      <td>6.907755</td>      <td>0.0</td>      <td>no</td>      <td>13.73189</td>      <td>good</td>      <td>9.528776</td>      <td>1.386294</td>      <td>12.0</td>      <td>43.87748</td>      <td>male</td>      <td>no</td>      <td>no</td>    </tr>    <tr>      <th>2</th>      <td>0.00000</td>      <td>0.0</td>      <td>yes</td>      <td>6.907755</td>      <td>0.0</td>      <td>no</td>      <td>13.73189</td>      <td>excellent</td>      <td>9.528776</td>      <td>1.386294</td>      <td>12.0</td>      <td>17.59138</td>      <td>male</td>      <td>yes</td>      <td>no</td>    </tr>    <tr>      <th>3</th>      <td>27.76280</td>      <td>0.0</td>      <td>yes</td>      <td>6.907755</td>      <td>0.0</td>      <td>no</td>      <td>13.73189</td>      <td>excellent</td>      <td>9.528776</td>      <td>1.386294</td>      <td>12.0</td>      <td>15.49966</td>      <td>female</td>      <td>yes</td>      <td>no</td>    </tr>  </tbody></table>\n",
    "### md格式\n",
    "|    | med    | lc   | idp   | lpi   | fmde   | physlim   | ndisease   | health    | linc   | lfam   | educdec   | age    | sex    | child   | black   |\n",
    "|:---|:-------|:-----|:------|:------|:-------|:----------|:-----------|:----------|:-------|:-------|:----------|:-------|:-------|:--------|:--------|\n",
    "| 1  | 62.075 | 0.0  | yes   | 6.908 | 0.0    | no        | 13.732     | good      | 9.529  | 1.386  | 12.0      | 43.877 | male   | no      | no      |\n",
    "| 2  | 0.0    | 0.0  | yes   | 6.908 | 0.0    | no        | 13.732     | excellent | 9.529  | 1.386  | 12.0      | 17.591 | male   | yes     | no      |\n",
    "| 3  | 27.763 | 0.0  | yes   | 6.908 | 0.0    | no        | 13.732     | excellent | 9.529  | 1.386  | 12.0      | 15.5   | female | yes     | no      |\n",
    "\n",
    "## 一张照片\n",
    "![我的照片](https://ss0.bdstatic.com/70cFuHSh_Q1YnxGkpoWK1HF6hhy/it/u=2791261768,1320060678&fm=26&gp=0.jpg)"
   ]
  },
  {
   "cell_type": "code",
   "execution_count": 2,
   "metadata": {},
   "outputs": [],
   "source": [
    "! notedown doc.ipynb --to markdown --strip > test.md"
   ]
  },
  {
   "cell_type": "code",
   "execution_count": 32,
   "metadata": {},
   "outputs": [],
   "source": [
    "def df_to_markdown(*dfs, sep_line='\\n---\\n', **kwargs):\n",
    "    \"\"\"Convert pandas dataframe to markdown table.\"\"\"\n",
    "    import tabulate\n",
    "\n",
    "    disable_numparse = kwargs.pop('disable_numparse', True)\n",
    "    tablefmt = kwargs.pop('tablefmt', 'pipe')\n",
    "    headers = kwargs.pop('headers', 'keys')\n",
    "    \n",
    "    for df in dfs:\n",
    "        print(tabulate.tabulate(df, tablefmt=tablefmt, headers=headers,\n",
    "                                disable_numparse=disable_numparse, **kwargs))\n",
    "        if sep_line is not None:\n",
    "            print(sep_line)"
   ]
  },
  {
   "cell_type": "code",
   "execution_count": 34,
   "metadata": {},
   "outputs": [
    {
     "name": "stdout",
     "output_type": "stream",
     "text": [
      "|    | med    | lc   | idp   | lpi   | fmde   | physlim   | ndisease   | health    | linc   | lfam   | educdec   | age    | sex    | child   | black   |\n",
      "|:---|:-------|:-----|:------|:------|:-------|:----------|:-----------|:----------|:-------|:-------|:----------|:-------|:-------|:--------|:--------|\n",
      "| 1  | 62.075 | 0.0  | yes   | 6.908 | 0.0    | no        | 13.732     | good      | 9.529  | 1.386  | 12.0      | 43.877 | male   | no      | no      |\n",
      "| 2  | 0.0    | 0.0  | yes   | 6.908 | 0.0    | no        | 13.732     | excellent | 9.529  | 1.386  | 12.0      | 17.591 | male   | yes     | no      |\n",
      "| 3  | 27.763 | 0.0  | yes   | 6.908 | 0.0    | no        | 13.732     | excellent | 9.529  | 1.386  | 12.0      | 15.5   | female | yes     | no      |\n",
      "\n",
      "---\n",
      "\n"
     ]
    }
   ],
   "source": [
    "df_to_markdown(df.head(3).round(3))"
   ]
  },
  {
   "cell_type": "markdown",
   "metadata": {},
   "source": [
    "|    | med    | lc   | idp   | lpi   | fmde   | physlim   | ndisease   | health    | linc   | lfam   | educdec   | age    | sex    | child   | black   |\n",
    "|:---|:-------|:-----|:------|:------|:-------|:----------|:-----------|:----------|:-------|:-------|:----------|:-------|:-------|:--------|:--------|\n",
    "| 1  | 62.075 | 0.0  | yes   | 6.908 | 0.0    | no        | 13.732     | good      | 9.529  | 1.386  | 12.0      | 43.877 | male   | no      | no      |\n",
    "| 2  | 0.0    | 0.0  | yes   | 6.908 | 0.0    | no        | 13.732     | excellent | 9.529  | 1.386  | 12.0      | 17.591 | male   | yes     | no      |\n",
    "| 3  | 27.763 | 0.0  | yes   | 6.908 | 0.0    | no        | 13.732     | excellent | 9.529  | 1.386  | 12.0      | 15.5   | female | yes     | no      |"
   ]
  },
  {
   "cell_type": "code",
   "execution_count": null,
   "metadata": {},
   "outputs": [],
   "source": [
    "|    | med    | lc   | idp   | lpi   | fmde   | physlim   | ndisease   | health    | linc   | lfam   | educdec   | age    | sex    | child   | black   |\n",
    "|:---|:-------|:-----|:------|:------|:-------|:----------|:-----------|:----------|:-------|:-------|:----------|:-------|:-------|:--------|:--------|\n",
    "| 1  | 62.075 | 0.0  | yes   | 6.908 | 0.0    | no        | 13.732     | good      | 9.529  | 1.386  | 12.0      | 43.877 | male   | no      | no      |\n",
    "| 2  | 0.0    | 0.0  | yes   | 6.908 | 0.0    | no        | 13.732     | excellent | 9.529  | 1.386  | 12.0      | 17.591 | male   | yes     | no      |\n",
    "| 3  | 27.763 | 0.0  | yes   | 6.908 | 0.0    | no        | 13.732     | excellent | 9.529  | 1.386  | 12.0      | 15.5   | female | yes     | no      |\n",
    "\n",
    "---"
   ]
  }
 ],
 "metadata": {
  "kernelspec": {
   "display_name": "Python 3",
   "language": "python",
   "name": "python3"
  },
  "language_info": {
   "codemirror_mode": {
    "name": "ipython",
    "version": 3
   },
   "file_extension": ".py",
   "mimetype": "text/x-python",
   "name": "python",
   "nbconvert_exporter": "python",
   "pygments_lexer": "ipython3",
   "version": "3.6.5"
  }
 },
 "nbformat": 4,
 "nbformat_minor": 2
}
