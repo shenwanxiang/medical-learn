{
 "cells": [
  {
   "cell_type": "markdown",
   "metadata": {},
   "source": []
  },
  {
   "cell_type": "markdown",
   "metadata": {},
   "source": [
    "###  原始数据路径： 's3://instagram-american-3s/**/*.tar'\n",
    "|步骤|人数|图数|预览|\n",
    "| --- | --- | --- | --- | \n",
    "|入库|105028|31814867| [点我预览入库结果](https://sharefs.iap.wh-a.brainpp.cn/_research_facerec/pages/results/20190114/training.info.raw.20190114115433)\n",
    "|quality过滤|105027|26026223| [点我预览过滤后结果](https://sharefs.iap.wh-a.brainpp.cn/_research_facerec/pages/results/20190114/training.info.raw.quality.20190114120959)，[点我预览过滤了哪些](https://sharefs.iap.wh-a.brainpp.cn/_research_facerec/pages/results/20190114/training.info.raw.quality.label.20190114121919/)\n",
    "|landmark过滤|5677|105202| [点我预览过滤后结果]()，[点我预览过滤了哪些]()\n",
    "|dhash去重复|5677|105202| [点我预览过滤后结果]()，[点我预览过滤了哪些]()\n",
    "|聚类取最大类|5677|105202| [最大类]()，[其他类]()"
   ]
  },
  {
   "cell_type": "code",
   "execution_count": null,
   "metadata": {},
   "outputs": [],
   "source": []
  },
  {
   "cell_type": "code",
   "execution_count": null,
   "metadata": {},
   "outputs": [],
   "source": []
  },
  {
   "cell_type": "code",
   "execution_count": 159,
   "metadata": {},
   "outputs": [],
   "source": []
  },
  {
   "cell_type": "code",
   "execution_count": 167,
   "metadata": {
    "scrolled": true
   },
   "outputs": [],
   "source": []
  },
  {
   "cell_type": "code",
   "execution_count": 185,
   "metadata": {},
   "outputs": [
    {
     "name": "stdout",
     "output_type": "stream",
     "text": [
      "Optimization terminated successfully.\n",
      "         Current function value: 0.481301\n",
      "         Iterations 6\n"
     ]
    }
   ],
   "source": []
  },
  {
   "cell_type": "code",
   "execution_count": 186,
   "metadata": {},
   "outputs": [
    {
     "data": {
      "text/html": [
       "<table class=\"simpletable\">\n",
       "<tr>\n",
       "        <td>Model:</td>             <td>Probit</td>      <td>Pseudo R-squared:</td>   <td>0.287</td>  \n",
       "</tr>\n",
       "<tr>\n",
       "  <td>Dependent Variable:</td>       <td>child</td>            <td>AIC:</td>        <td>5367.5411</td>\n",
       "</tr>\n",
       "<tr>\n",
       "         <td>Date:</td>        <td>2019-01-23 17:03</td>       <td>BIC:</td>        <td>5374.1669</td>\n",
       "</tr>\n",
       "<tr>\n",
       "   <td>No. Observations:</td>        <td>5574</td>        <td>Log-Likelihood:</td>   <td>-2682.8</td> \n",
       "</tr>\n",
       "<tr>\n",
       "       <td>Df Model:</td>              <td>0</td>            <td>LL-Null:</td>       <td>-3762.6</td> \n",
       "</tr>\n",
       "<tr>\n",
       "     <td>Df Residuals:</td>          <td>5573</td>         <td>LLR p-value:</td>       <td>nan</td>   \n",
       "</tr>\n",
       "<tr>\n",
       "      <td>Converged:</td>           <td>1.0000</td>           <td>Scale:</td>        <td>1.0000</td>  \n",
       "</tr>\n",
       "<tr>\n",
       "    <td>No. Iterations:</td>        <td>6.0000</td>              <td></td>              <td></td>     \n",
       "</tr>\n",
       "</table>\n",
       "<table class=\"simpletable\">\n",
       "<tr>\n",
       "   <td></td>    <th>Coef.</th>  <th>Std.Err.</th>     <th>z</th>     <th>P>|z|</th> <th>[0.025</th>  <th>0.975]</th> \n",
       "</tr>\n",
       "<tr>\n",
       "  <th>age</th> <td>-0.0345</td>  <td>0.0009</td>  <td>-39.5016</td> <td>0.0000</td> <td>-0.0362</td> <td>-0.0328</td>\n",
       "</tr>\n",
       "</table>"
      ],
      "text/plain": [
       "<class 'statsmodels.iolib.summary2.Summary'>\n",
       "\"\"\"\n",
       "                        Results: Probit\n",
       "================================================================\n",
       "Model:              Probit           Pseudo R-squared: 0.287    \n",
       "Dependent Variable: child            AIC:              5367.5411\n",
       "Date:               2019-01-23 17:03 BIC:              5374.1669\n",
       "No. Observations:   5574             Log-Likelihood:   -2682.8  \n",
       "Df Model:           0                LL-Null:          -3762.6  \n",
       "Df Residuals:       5573             LLR p-value:      nan      \n",
       "Converged:          1.0000           Scale:            1.0000   \n",
       "No. Iterations:     6.0000                                      \n",
       "------------------------------------------------------------------\n",
       "         Coef.    Std.Err.      z       P>|z|     [0.025    0.975]\n",
       "------------------------------------------------------------------\n",
       "age     -0.0345     0.0009   -39.5016   0.0000   -0.0362   -0.0328\n",
       "================================================================\n",
       "\n",
       "\"\"\""
      ]
     },
     "execution_count": 186,
     "metadata": {},
     "output_type": "execute_result"
    }
   ],
   "source": []
  },
  {
   "cell_type": "code",
   "execution_count": 181,
   "metadata": {},
   "outputs": [
    {
     "data": {
      "text/plain": [
       "array([0.06497666, 0.27188954, 0.29635278, ..., 0.49693729, 0.49950054,\n",
       "       0.49444956])"
      ]
     },
     "execution_count": 181,
     "metadata": {},
     "output_type": "execute_result"
    }
   ],
   "source": []
  },
  {
   "cell_type": "code",
   "execution_count": 182,
   "metadata": {},
   "outputs": [
    {
     "data": {
      "text/plain": [
       "age   -0.034512\n",
       "dtype: float64"
      ]
     },
     "execution_count": 182,
     "metadata": {},
     "output_type": "execute_result"
    }
   ],
   "source": [
    "a.params"
   ]
  },
  {
   "cell_type": "code",
   "execution_count": 184,
   "metadata": {},
   "outputs": [
    {
     "data": {
      "text/html": [
       "<table class=\"simpletable\">\n",
       "<tr>\n",
       "        <td>Model:</td>             <td>Probit</td>      <td>Pseudo R-squared:</td>   <td>0.287</td>  \n",
       "</tr>\n",
       "<tr>\n",
       "  <td>Dependent Variable:</td>       <td>child</td>            <td>AIC:</td>        <td>5367.5411</td>\n",
       "</tr>\n",
       "<tr>\n",
       "         <td>Date:</td>        <td>2019-01-23 16:58</td>       <td>BIC:</td>        <td>5374.1669</td>\n",
       "</tr>\n",
       "<tr>\n",
       "   <td>No. Observations:</td>        <td>5574</td>        <td>Log-Likelihood:</td>   <td>-2682.8</td> \n",
       "</tr>\n",
       "<tr>\n",
       "       <td>Df Model:</td>              <td>0</td>            <td>LL-Null:</td>       <td>-3762.6</td> \n",
       "</tr>\n",
       "<tr>\n",
       "     <td>Df Residuals:</td>          <td>5573</td>         <td>LLR p-value:</td>       <td>nan</td>   \n",
       "</tr>\n",
       "<tr>\n",
       "      <td>Converged:</td>           <td>1.0000</td>           <td>Scale:</td>        <td>1.0000</td>  \n",
       "</tr>\n",
       "<tr>\n",
       "    <td>No. Iterations:</td>        <td>6.0000</td>              <td></td>              <td></td>     \n",
       "</tr>\n",
       "</table>\n",
       "<table class=\"simpletable\">\n",
       "<tr>\n",
       "   <td></td>    <th>Coef.</th>  <th>Std.Err.</th>     <th>z</th>     <th>P>|z|</th> <th>[0.025</th>  <th>0.975]</th> \n",
       "</tr>\n",
       "<tr>\n",
       "  <th>age</th> <td>-0.0345</td>  <td>0.0009</td>  <td>-39.5016</td> <td>0.0000</td> <td>-0.0362</td> <td>-0.0328</td>\n",
       "</tr>\n",
       "</table>"
      ],
      "text/plain": [
       "<class 'statsmodels.iolib.summary2.Summary'>\n",
       "\"\"\"\n",
       "                        Results: Probit\n",
       "================================================================\n",
       "Model:              Probit           Pseudo R-squared: 0.287    \n",
       "Dependent Variable: child            AIC:              5367.5411\n",
       "Date:               2019-01-23 16:58 BIC:              5374.1669\n",
       "No. Observations:   5574             Log-Likelihood:   -2682.8  \n",
       "Df Model:           0                LL-Null:          -3762.6  \n",
       "Df Residuals:       5573             LLR p-value:      nan      \n",
       "Converged:          1.0000           Scale:            1.0000   \n",
       "No. Iterations:     6.0000                                      \n",
       "------------------------------------------------------------------\n",
       "         Coef.    Std.Err.      z       P>|z|     [0.025    0.975]\n",
       "------------------------------------------------------------------\n",
       "age     -0.0345     0.0009   -39.5016   0.0000   -0.0362   -0.0328\n",
       "================================================================\n",
       "\n",
       "\"\"\""
      ]
     },
     "execution_count": 184,
     "metadata": {},
     "output_type": "execute_result"
    }
   ],
   "source": []
  },
  {
   "cell_type": "code",
   "execution_count": null,
   "metadata": {},
   "outputs": [],
   "source": []
  }
 ],
 "metadata": {
  "kernelspec": {
   "display_name": "Python 3",
   "language": "python",
   "name": "python3"
  },
  "language_info": {
   "codemirror_mode": {
    "name": "ipython",
    "version": 3
   },
   "file_extension": ".py",
   "mimetype": "text/x-python",
   "name": "python",
   "nbconvert_exporter": "python",
   "pygments_lexer": "ipython3",
   "version": "3.5.2"
  }
 },
 "nbformat": 4,
 "nbformat_minor": 2
}
