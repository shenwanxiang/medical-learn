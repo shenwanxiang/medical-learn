{
 "cells": [
  {
   "cell_type": "code",
   "execution_count": 6,
   "metadata": {},
   "outputs": [
    {
     "name": "stdout",
     "output_type": "stream",
     "text": [
      "Untitled.ipynb                 common_g_OnewayAnova.py\r\n",
      "__init__.py                    common_h_TTestInd.py\r\n",
      "\u001b[34m__pycache__\u001b[m\u001b[m/                   common_i_TTest1Samp.py\r\n",
      "common_a_CountFreq.py          common_j_TTestPair.py\r\n",
      "common_b_ChiSquareCrossTab.py  common_k_NormalityTest.py\r\n",
      "common_c_DescripStat.py        common_l_NonparametricStat.py\r\n",
      "common_d_GroupByStat.py        common_m_HOVTest.py\r\n",
      "common_e_CorrStat.py           \u001b[34mdocs\u001b[m\u001b[m/\r\n",
      "common_f_OlsLinearReg.py\r\n"
     ]
    }
   ],
   "source": [
    "ls"
   ]
  },
  {
   "cell_type": "code",
   "execution_count": 21,
   "metadata": {},
   "outputs": [],
   "source": [
    "from docs import docs"
   ]
  },
  {
   "cell_type": "code",
   "execution_count": 24,
   "metadata": {},
   "outputs": [
    {
     "ename": "ModuleNotFoundError",
     "evalue": "No module named '__main__.docs'; '__main__' is not a package",
     "output_type": "error",
     "traceback": [
      "\u001b[0;31m---------------------------------------------------------------------------\u001b[0m",
      "\u001b[0;31mModuleNotFoundError\u001b[0m                       Traceback (most recent call last)",
      "\u001b[0;32m<ipython-input-24-c3922b9b40bd>\u001b[0m in \u001b[0;36m<module>\u001b[0;34m()\u001b[0m\n\u001b[0;32m----> 1\u001b[0;31m \u001b[0;32mfrom\u001b[0m \u001b[0;34m.\u001b[0m\u001b[0mdocs\u001b[0m \u001b[0;32mimport\u001b[0m \u001b[0mdocs\u001b[0m\u001b[0;34m\u001b[0m\u001b[0m\n\u001b[0m",
      "\u001b[0;31mModuleNotFoundError\u001b[0m: No module named '__main__.docs'; '__main__' is not a package"
     ]
    }
   ],
   "source": [
    "from .docs import Cor"
   ]
  },
  {
   "cell_type": "code",
   "execution_count": 26,
   "metadata": {},
   "outputs": [
    {
     "name": "stdout",
     "output_type": "stream",
     "text": [
      "__init__.py                    common_d_GroupByStat.md\r\n",
      "\u001b[34m__pycache__\u001b[m\u001b[m/                   common_e_CorrStat.md\r\n",
      "advance_a_Cluster.md           common_f_OlsLinearReg.md\r\n",
      "advance_b_FA.md                common_g_OnewayAnova.md\r\n",
      "advance_c_PCA.md               common_h_TTestInd.md\r\n",
      "advance_d_PostHocTest.md       common_i_TTest1Samp.md\r\n",
      "advance_e_StepwiseReg.md       common_j_TTestPair.md\r\n",
      "advance_f_HierarchicalReg.md   common_k_NormalityTest.md\r\n",
      "advance_g_TwowayAnova.md       common_l_NonparametricStat.md\r\n",
      "common.md                      common_m_HOVTest.md\r\n",
      "common_a_CountFreq.md          conf.md\r\n",
      "common_b_ChiSquareCrossTab.md  doc.ipynb\r\n",
      "common_c_DescripStat.md        test.md\r\n"
     ]
    }
   ],
   "source": [
    "ls docs"
   ]
  },
  {
   "cell_type": "code",
   "execution_count": 12,
   "metadata": {},
   "outputs": [
    {
     "name": "stdout",
     "output_type": "stream",
     "text": [
      "__init__.py                    common_e_CorrStat.md\r\n",
      "advance_a_Cluster.md           common_f_OlsLinearReg.md\r\n",
      "advance_b_FA.md                common_g_OnewayAnova.md\r\n",
      "advance_c_PCA.md               common_h_TTestInd.md\r\n",
      "advance_d_PostHocTest.md       common_i_TTest1Samp.md\r\n",
      "advance_e_StepwiseReg.md       common_j_TTestPair.md\r\n",
      "advance_f_HierarchicalReg.md   common_k_NormalityTest.md\r\n",
      "advance_g_TwowayAnova.md       common_l_NonparametricStat.md\r\n",
      "common.md                      common_m_HOVTest.md\r\n",
      "common_a_CountFreq.md          conf.md\r\n",
      "common_b_ChiSquareCrossTab.md  doc.ipynb\r\n",
      "common_c_DescripStat.md        docs.py\r\n",
      "common_d_GroupByStat.md        test.md\r\n"
     ]
    }
   ],
   "source": [
    "ls /Users/shenwanxiang/Desktop/smap/medical-learn/MedLearn/common/docs/"
   ]
  },
  {
   "cell_type": "code",
   "execution_count": 19,
   "metadata": {},
   "outputs": [],
   "source": [
    "class docs:\n",
    "    \n",
    "\n",
    "    def DOC_CorrStat():\n",
    "        #docfile = os.path.join(mypath,'docs/common_e_CorrStat.md')\n",
    "\n",
    "        docfile = '/Users/shenwanxiang/Desktop/smap/medical-learn/MedLearn/common/docs/common_e_CorrStat.md'\n",
    "        with open(docfile) as f:\n",
    "            doc = f.read()\n",
    "        return doc"
   ]
  },
  {
   "cell_type": "code",
   "execution_count": 20,
   "metadata": {},
   "outputs": [
    {
     "data": {
      "text/plain": [
       "<function docs.mro>"
      ]
     },
     "execution_count": 20,
     "metadata": {},
     "output_type": "execute_result"
    }
   ],
   "source": [
    "docs.mro"
   ]
  },
  {
   "cell_type": "code",
   "execution_count": 30,
   "metadata": {},
   "outputs": [],
   "source": [
    "from docs import docs"
   ]
  },
  {
   "cell_type": "code",
   "execution_count": 34,
   "metadata": {},
   "outputs": [
    {
     "data": {
      "text/plain": [
       "<function docs.docs.DOC_CorrStat(doc_path=None)>"
      ]
     },
     "execution_count": 34,
     "metadata": {},
     "output_type": "execute_result"
    }
   ],
   "source": [
    "docs.DOC_CorrStat"
   ]
  },
  {
   "cell_type": "code",
   "execution_count": null,
   "metadata": {},
   "outputs": [],
   "source": []
  }
 ],
 "metadata": {
  "kernelspec": {
   "display_name": "Python 3",
   "language": "python",
   "name": "python3"
  },
  "language_info": {
   "codemirror_mode": {
    "name": "ipython",
    "version": 3
   },
   "file_extension": ".py",
   "mimetype": "text/x-python",
   "name": "python",
   "nbconvert_exporter": "python",
   "pygments_lexer": "ipython3",
   "version": "3.6.5"
  }
 },
 "nbformat": 4,
 "nbformat_minor": 2
}
